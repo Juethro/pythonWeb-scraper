{
 "cells": [
  {
   "cell_type": "markdown",
   "metadata": {},
   "source": [
    "# Laporan Praktikum Web Scraping"
   ]
  },
  {
   "cell_type": "markdown",
   "metadata": {},
   "source": [
    "Denis Muhammad Jethro/ 162112133028"
   ]
  },
  {
   "cell_type": "markdown",
   "metadata": {},
   "source": [
    "## Import Library"
   ]
  },
  {
   "cell_type": "code",
   "execution_count": 86,
   "metadata": {},
   "outputs": [],
   "source": [
    "import requests as rq\n",
    "from bs4 import BeautifulSoup as bs\n",
    "import pandas as pd\n",
    "import re"
   ]
  },
  {
   "cell_type": "code",
   "execution_count": 101,
   "metadata": {},
   "outputs": [],
   "source": [
    "url = rq.get(\"https://unair.ac.id/news\")"
   ]
  },
  {
   "cell_type": "markdown",
   "metadata": {},
   "source": [
    "URL"
   ]
  },
  {
   "cell_type": "code",
   "execution_count": 88,
   "metadata": {},
   "outputs": [],
   "source": [
    "with open(\"index.html\", 'w') as nulis:\n",
    "    nulis.write(httml.text)"
   ]
  },
  {
   "cell_type": "code",
   "execution_count": 89,
   "metadata": {},
   "outputs": [],
   "source": [
    "with open(\"index.html\", 'r') as htmll:\n",
    "    soup = bs(htmll, 'html.parser')\n",
    "\n",
    "listt = soup.find_all('h3' , class_='elementor-post__title')\n"
   ]
  },
  {
   "cell_type": "code",
   "execution_count": 100,
   "metadata": {},
   "outputs": [],
   "source": [
    "data_judul = []\n",
    "filter = []\n",
    "\n",
    "for i in listt: \n",
    "    splitted = re.split(r'[\\n\\t\\f\\v\\r]+', i.find('a').get_text())\n",
    "    \n",
    "    # Hilangkan enter depan\n",
    "    for x in splitted[1:]:\n",
    "        filter.append(x)\n",
    "\n",
    "# Hilangkan enter belakang\n",
    "for su in filter[0::2]:\n",
    "    data_judul.append(su)\n"
   ]
  },
  {
   "cell_type": "markdown",
   "metadata": {},
   "source": [
    "## DataFrame"
   ]
  },
  {
   "cell_type": "code",
   "execution_count": 99,
   "metadata": {},
   "outputs": [
    {
     "data": {
      "text/plain": [
       "['Kontribusi Terhadap Keberlanjutan Lingkungan, UNAIR Raih 4 Trees Rating dari UI Greenmetric',\n",
       " '5 Mahasiswa UNAIR Ikuti Student Exchange dan Konferensi di Thailand, Malaysia, dan Singapura',\n",
       " 'Waspadai Resistensi Antibiotik Saat Sakit',\n",
       " 'Kontribusi Terhadap Keberlanjutan Lingkungan, UNAIR Raih 4 Trees Rating dari UI Greenmetric',\n",
       " 'Atasi Stunting, Guru Besar FK UNAIR Berikan Penyuluhan di Puskesmas Arosbaya',\n",
       " 'Dosen Toksikologi UNAIR Paparkan Toksisitas Etilen Glikol, Senyawa Kimia yang Diduga Penyebab Gagal Ginjal Akut pada Anak',\n",
       " 'Mawapres FK UNAIR, Sebulan Borong 4 Gelar Juara',\n",
       " 'Dosen Toksikologi UNAIR Paparkan Toksisitas Etilen Glikol, Senyawa Kimia yang Diduga Penyebab Gagal Ginjal Akut pada Anak',\n",
       " 'Dosen UNAIR Dorong Percepatan Kastrasi Jantan untuk Tekan Populasi Kucing Liar',\n",
       " 'Dua Mahasiswa Perikanan UNAIR Ikuti Summer School di Hiroshima University',\n",
       " 'Sambut Pertukaran Mahasiswa, Rektor UNAIR: Pulang Harus Jadi Orang Hebat',\n",
       " 'Mawapres FK UNAIR, Sebulan Borong 4 Gelar Juara',\n",
       " 'Mahasiswa Ilmu Sejarah UNAIR Dinobatkan sebagai Putri Pariwisata Kalimantan Timur 2022',\n",
       " 'Kajian Sejarah Pers Indonesia Bawa Mahasiswa FIB Sabet Juara 3 LKTIN di UI',\n",
       " 'Mahasiswa Farmasi UNAIR Cetuskan Ide Pengobatan Kanker Payudara Berbasis Daun Pepaya',\n",
       " 'Inovasi Dosen FPK UNAIR Manfaatkan Limbah PT. Ajinomoto Sebagai Pakan Ikan',\n",
       " 'Peneliti FKM UNAIR Kembangkan Formula Fermentasi Bawang untuk Lansia Pasca Vaksinasi',\n",
       " 'Ketua KPK Kunjungi UNAIR',\n",
       " 'UNAIR Terima Kunjungan Dubes Pakistan',\n",
       " 'MoU UNAIR-Pemkab Banyuwangi Perkuat Kerjasama Bidang Pendidikan',\n",
       " 'Perbandingan Deformasi Permanen Kawat Termal Nikel-Titanium 0,014 Menggunakan IMD Orthoshaped, American Orthodontics, dan Ormco',\n",
       " 'Ekstrak Etanol Mangrove Gagal Menghambat Pertumbuhan Candida albicans Diisolasi dari Oral Kandidiasis Pasien HIV/AIDS in vitro',\n",
       " 'Intensitas Zeylanicobdella arugamensis dan Histopatologi Kulit Kerapu Hibrida dari Kolam Tanah dan Beton',\n",
       " 'Bermain Drama untuk Memperingati Hari Cuci Tangan Sedunia',\n",
       " 'Bermain Drama untuk Memperingati Hari Cuci Tangan Sedunia',\n",
       " 'Bermain Drama untuk Memperingati Hari Cuci Tangan Sedunia',\n",
       " 'Mawapres FK UNAIR, Sebulan Borong 4 Gelar Juara',\n",
       " 'Kajian Sejarah Pers Indonesia Bawa Mahasiswa FIB Sabet Juara 3 LKTIN di UI',\n",
       " 'Gelisah Penggunaan Plastik di Kereta Api, Mahasiswa UNAIR Temukan Gerakan Anti Plastik',\n",
       " 'Gowes Bareng Gubernur dan Alumni UNAIR Ramaikan World Heart Day',\n",
       " 'Khofifah Resmi Mulai Semarak Peringatan HUT EMAS IKA UNAIR',\n",
       " 'Alumni UNAIR Siap Luncurkan Aplikasi untuk Petani Walet',\n",
       " 'Menekan Resiko Radang Otak pada Anak dengan Imunisasi HiB',\n",
       " 'Rilis: Mahasiswa UNAIR Bagikan Angklung di Rusia',\n",
       " 'Spektrum Cefditoren untuk Infeksi Saluran Pernapasan Bawah (LR-TIs) di Surabaya',\n",
       " 'Koeksistensi Clear-Cell Renal Cell Carcinoma dan Glioblastoma Multiforme',\n",
       " 'Mahasiswa UNAIR Sabet Juara 1 dalam Essay Competition IDTC 2022',\n",
       " 'IKA UNAIR: Wisudawan Harus Miliki Sifat Teguh dan Inovatif dalam Bermasyarakat',\n",
       " 'Peringati Hari Kesehatan Mental Sedunia, PSYCHOFEST FPsi UNAIR Gelar Long March Edukasi Kesehatan Mental',\n",
       " 'Peningkatan Literasi Solusi Tragedi Kanjuruhan Tak Terulang Kembali',\n",
       " 'Keranekaragaman Kerapu dari Sulawesi',\n",
       " 'Kritisi PLTA Poso, Tiga Mahasiswa HI UNAIR Sabet Juara Dua Lomba Karya Tulis HAM Internasional',\n",
       " 'Soroti Masyarakat Kelas Bawah Asia Timur, FISIP UNAIR Gelar Research Lecture',\n",
       " 'Analisis Manajemen Pakan Pembesaran Udang Vannamei ']"
      ]
     },
     "execution_count": 99,
     "metadata": {},
     "output_type": "execute_result"
    }
   ],
   "source": [
    "data_judul"
   ]
  }
 ],
 "metadata": {
  "kernelspec": {
   "display_name": "Python 3.10.7 ('venv': venv)",
   "language": "python",
   "name": "python3"
  },
  "language_info": {
   "codemirror_mode": {
    "name": "ipython",
    "version": 3
   },
   "file_extension": ".py",
   "mimetype": "text/x-python",
   "name": "python",
   "nbconvert_exporter": "python",
   "pygments_lexer": "ipython3",
   "version": "3.10.7"
  },
  "orig_nbformat": 4,
  "vscode": {
   "interpreter": {
    "hash": "88a918f641e6434280e32681e5c8778d47c8ed8584711c54f3c190898309ac74"
   }
  }
 },
 "nbformat": 4,
 "nbformat_minor": 2
}
