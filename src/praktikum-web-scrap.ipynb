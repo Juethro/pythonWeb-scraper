{
 "cells": [
  {
   "cell_type": "markdown",
   "metadata": {},
   "source": [
    "# Laporan Praktikum Web Scraping"
   ]
  },
  {
   "cell_type": "markdown",
   "metadata": {},
   "source": [
    "Denis Muhammad Jethro/ 162112133028"
   ]
  },
  {
   "cell_type": "markdown",
   "metadata": {},
   "source": [
    "## Import Library"
   ]
  },
  {
   "cell_type": "code",
   "execution_count": 1,
   "metadata": {},
   "outputs": [],
   "source": [
    "import requests as rq\n",
    "from bs4 import BeautifulSoup as bs\n",
    "import pandas as pd\n",
    "import re"
   ]
  },
  {
   "cell_type": "markdown",
   "metadata": {},
   "source": [
    "## Scraping Beautifulsoup"
   ]
  },
  {
   "cell_type": "markdown",
   "metadata": {},
   "source": [
    "Step:\n",
    "\n",
    "1. Ambil html dengan requests\n",
    "2. Masukkan dalam file .html\n",
    "3. Buka file dan masukkan dalam Beautifulsoup \n",
    "4. Find_all tag yang dicari, dalam hal ini *h3*\n",
    "5. Bersihkan hasilnya dan buat dataframe dari kumpulan data tersebut"
   ]
  },
  {
   "cell_type": "code",
   "execution_count": 2,
   "metadata": {},
   "outputs": [],
   "source": [
    "url = rq.get(\"https://unair.ac.id/news\")"
   ]
  },
  {
   "cell_type": "code",
   "execution_count": 3,
   "metadata": {},
   "outputs": [],
   "source": [
    "with open(\"index.html\", 'w') as nulis:\n",
    "    nulis.write(url.text)"
   ]
  },
  {
   "cell_type": "code",
   "execution_count": 4,
   "metadata": {},
   "outputs": [],
   "source": [
    "with open(\"index.html\", 'r') as htmll:\n",
    "    soup = bs(htmll, 'html.parser')\n",
    "\n",
    "listt = soup.find_all('h3' , class_='elementor-post__title')\n"
   ]
  },
  {
   "cell_type": "code",
   "execution_count": 5,
   "metadata": {},
   "outputs": [],
   "source": [
    "data_judul = []\n",
    "filter = []\n",
    "\n",
    "for i in listt: \n",
    "    splitted = re.split(r'[\\n\\t\\f\\v\\r]+', i.find('a').get_text())\n",
    "    \n",
    "    # Hilangkan enter depan\n",
    "    for x in splitted[1:]:\n",
    "        filter.append(x)\n",
    "\n",
    "# Hilangkan enter belakang\n",
    "for su in filter[0::2]:\n",
    "    data_judul.append(su)\n"
   ]
  },
  {
   "cell_type": "markdown",
   "metadata": {},
   "source": [
    "## DataFrame Headlines"
   ]
  },
  {
   "cell_type": "code",
   "execution_count": 17,
   "metadata": {},
   "outputs": [
    {
     "data": {
      "text/html": [
       "<div>\n",
       "<style scoped>\n",
       "    .dataframe tbody tr th:only-of-type {\n",
       "        vertical-align: middle;\n",
       "    }\n",
       "\n",
       "    .dataframe tbody tr th {\n",
       "        vertical-align: top;\n",
       "    }\n",
       "\n",
       "    .dataframe thead th {\n",
       "        text-align: right;\n",
       "    }\n",
       "</style>\n",
       "<table border=\"1\" class=\"dataframe\">\n",
       "  <thead>\n",
       "    <tr style=\"text-align: right;\">\n",
       "      <th></th>\n",
       "      <th>Judul_Headline</th>\n",
       "    </tr>\n",
       "  </thead>\n",
       "  <tbody>\n",
       "    <tr>\n",
       "      <th>0</th>\n",
       "      <td>Kontribusi Terhadap Keberlanjutan Lingkungan, ...</td>\n",
       "    </tr>\n",
       "    <tr>\n",
       "      <th>1</th>\n",
       "      <td>5 Mahasiswa UNAIR Ikuti Student Exchange dan K...</td>\n",
       "    </tr>\n",
       "    <tr>\n",
       "      <th>2</th>\n",
       "      <td>Waspadai Resistensi Antibiotik Saat Sakit</td>\n",
       "    </tr>\n",
       "    <tr>\n",
       "      <th>3</th>\n",
       "      <td>Kontribusi Terhadap Keberlanjutan Lingkungan, ...</td>\n",
       "    </tr>\n",
       "    <tr>\n",
       "      <th>4</th>\n",
       "      <td>Atasi Stunting, Guru Besar FK UNAIR Berikan Pe...</td>\n",
       "    </tr>\n",
       "  </tbody>\n",
       "</table>\n",
       "</div>"
      ],
      "text/plain": [
       "                                      Judul_Headline\n",
       "0  Kontribusi Terhadap Keberlanjutan Lingkungan, ...\n",
       "1  5 Mahasiswa UNAIR Ikuti Student Exchange dan K...\n",
       "2          Waspadai Resistensi Antibiotik Saat Sakit\n",
       "3  Kontribusi Terhadap Keberlanjutan Lingkungan, ...\n",
       "4  Atasi Stunting, Guru Besar FK UNAIR Berikan Pe..."
      ]
     },
     "execution_count": 17,
     "metadata": {},
     "output_type": "execute_result"
    }
   ],
   "source": [
    "df = pd.DataFrame(data_judul)\n",
    "df.columns = ['Judul_Headline']\n",
    "df.to_csv('../scraping-headlines.csv')\n",
    "\n",
    "df.head()"
   ]
  },
  {
   "cell_type": "markdown",
   "metadata": {},
   "source": [
    "## Crawling Beautifulsoup"
   ]
  },
  {
   "cell_type": "code",
   "execution_count": null,
   "metadata": {},
   "outputs": [],
   "source": [
    "urls = rq.get()"
   ]
  }
 ],
 "metadata": {
  "kernelspec": {
   "display_name": "Python 3.10.7 ('venv': venv)",
   "language": "python",
   "name": "python3"
  },
  "language_info": {
   "codemirror_mode": {
    "name": "ipython",
    "version": 3
   },
   "file_extension": ".py",
   "mimetype": "text/x-python",
   "name": "python",
   "nbconvert_exporter": "python",
   "pygments_lexer": "ipython3",
   "version": "3.10.7"
  },
  "orig_nbformat": 4,
  "vscode": {
   "interpreter": {
    "hash": "88a918f641e6434280e32681e5c8778d47c8ed8584711c54f3c190898309ac74"
   }
  }
 },
 "nbformat": 4,
 "nbformat_minor": 2
}
